{
 "cells": [
  {
   "cell_type": "code",
   "execution_count": 1,
   "id": "27c5a4f5-e709-4a05-a8e3-41fdaa087ab9",
   "metadata": {},
   "outputs": [],
   "source": [
    "import torch\n",
    "import torch.nn as nn\n",
    "from torch.utils.data import TensorDataset, DataLoader, Subset\n",
    "from PIL import Image\n",
    "import numpy as np\n",
    "import matplotlib.pyplot as plt"
   ]
  },
  {
   "cell_type": "code",
   "execution_count": 2,
   "id": "3ece7f75-2c10-4be2-bd0d-7b146430dbf3",
   "metadata": {},
   "outputs": [],
   "source": [
    "line_img = np.array(Image.open(\"train/line.png\")) / 255.0\n",
    "white_img = np.array(Image.open(\"train/white.jpg\")) / 255.0"
   ]
  },
  {
   "cell_type": "code",
   "execution_count": 3,
   "id": "43f936de-5d3a-4414-99d5-b33679a7fd0a",
   "metadata": {},
   "outputs": [],
   "source": [
    "images = np.stack([white_img] * 20 + [line_img] * 20)"
   ]
  },
  {
   "cell_type": "code",
   "execution_count": 4,
   "id": "892fc40c-4239-4362-aeea-8b64c7b96732",
   "metadata": {},
   "outputs": [],
   "source": [
    "labels = np.array([0] * 20 + [1] * 20)"
   ]
  },
  {
   "cell_type": "code",
   "execution_count": 5,
   "id": "17775e6d-fb97-4a8f-8796-53e8ad07ee50",
   "metadata": {},
   "outputs": [],
   "source": [
    "images = torch.tensor(images, dtype=torch.float32).permute(0, 3, 1, 2)  # (100, 3, 1284, 310)\n",
    "labels = torch.tensor(labels, dtype=torch.long)"
   ]
  },
  {
   "cell_type": "code",
   "execution_count": 6,
   "id": "a3eb011b-6fe9-46fd-89c2-49904ecdb8ab",
   "metadata": {},
   "outputs": [
    {
     "name": "stdout",
     "output_type": "stream",
     "text": [
      "  Shape: torch.Size([40, 3, 310, 1284])\n"
     ]
    }
   ],
   "source": [
    "print(f\"  Shape: {images.shape}\")"
   ]
  },
  {
   "cell_type": "code",
   "execution_count": 7,
   "id": "5cb437ad-6732-4d82-ad1c-3509079398e0",
   "metadata": {},
   "outputs": [],
   "source": [
    "dataset = TensorDataset(images, labels)\n",
    "num_subset_samples = 40\n",
    "subset_indices = torch.randperm(len(dataset))[:num_subset_samples].tolist()\n",
    "subset_dataset = Subset(dataset, subset_indices)\n",
    "dataloader = DataLoader(subset_dataset, batch_size=1, shuffle=True)"
   ]
  },
  {
   "cell_type": "code",
   "execution_count": 8,
   "id": "961fd54b-c910-47ed-b47d-ccf5c8c39a9c",
   "metadata": {},
   "outputs": [],
   "source": [
    "class SimpleCNN(nn.Module):\n",
    "    def __init__(self):\n",
    "        super(SimpleCNN, self).__init__()\n",
    "        self.conv = nn.Sequential(\n",
    "            nn.Conv2d(3, 16, kernel_size=3, stride=2, padding=1),\n",
    "            nn.ReLU(),\n",
    "            nn.MaxPool2d(2),\n",
    "            nn.Conv2d(16, 32, kernel_size=3, stride=2, padding=1),\n",
    "            nn.ReLU(),\n",
    "            nn.MaxPool2d(2),\n",
    "            nn.Flatten()\n",
    "        )\n",
    "        self.fc = nn.Linear(32 * 19 * 80, 2)  # Adjust based on output size\n",
    "\n",
    "    def forward(self, x):\n",
    "        x = self.conv(x)\n",
    "        x = self.fc(x)\n",
    "        return x"
   ]
  },
  {
   "cell_type": "code",
   "execution_count": 9,
   "id": "9420771a-1421-4b44-9539-66fa4507770a",
   "metadata": {},
   "outputs": [],
   "source": [
    "model = SimpleCNN()\n",
    "criterion = nn.CrossEntropyLoss()\n",
    "optimizer = torch.optim.Adam(model.parameters(), lr=1e-3)"
   ]
  },
  {
   "cell_type": "code",
   "execution_count": 10,
   "id": "ffc6f794-4ee6-40e3-9b0a-2a86b229df4b",
   "metadata": {},
   "outputs": [
    {
     "name": "stdout",
     "output_type": "stream",
     "text": [
      "Epoch 1, Loss: 0.08787452429533005\n",
      "Epoch 2, Loss: 0.011431078426539898\n",
      "Epoch 3, Loss: 0.002056628232821822\n",
      "Epoch 4, Loss: 0.0010946955299004912\n",
      "Epoch 5, Loss: 0.000513064325787127\n"
     ]
    }
   ],
   "source": [
    "model.train()\n",
    "for epoch in range(5):\n",
    "    for batch_images, batch_labels in dataloader:  # Use distinct names to avoid overwrite\n",
    "        optimizer.zero_grad()\n",
    "        outputs = model(batch_images)\n",
    "        loss = criterion(outputs, batch_labels)\n",
    "        loss.backward()\n",
    "        optimizer.step()\n",
    "    print(f'Epoch {epoch+1}, Loss: {loss.item()}')"
   ]
  },
  {
   "cell_type": "code",
   "execution_count": 11,
   "id": "001797a9-6163-46ed-8371-fed99d4dc780",
   "metadata": {},
   "outputs": [
    {
     "name": "stdout",
     "output_type": "stream",
     "text": [
      "Images shape: torch.Size([40, 3, 310, 1284])\n"
     ]
    }
   ],
   "source": [
    "print(f\"Images shape: {images.shape}\")"
   ]
  },
  {
   "cell_type": "code",
   "execution_count": 16,
   "id": "8ce0b4d1-806b-4a2b-b775-1a8adb05ac98",
   "metadata": {},
   "outputs": [
    {
     "name": "stdout",
     "output_type": "stream",
     "text": [
      "Image 1 (Index 10): True Label: white_img (0), Predicted: white_img (0)\n",
      "Image 2 (Index 38): True Label: line_img (1), Predicted: line_img (1)\n",
      "All Predictions: [0, 1] (['white_img', 'line_img'])\n",
      "All True Labels: [0, 1] (['white_img', 'line_img'])\n",
      "Accuracy: 100.00%\n"
     ]
    },
    {
     "data": {
      "image/png": "[encoded data removed]",
      "text/plain": [
       "<Figure size 1200x500 with 2 Axes>"
      ]
     },
     "metadata": {},
     "output_type": "display_data"
    }
   ],
   "source": [
    "model.eval()\n",
    "with torch.no_grad():\n",
    "    # Randomly select 2 indices\n",
    "    num_samples = 2\n",
    "    random_indices = torch.randperm(len(dataset))[:num_samples]  # e.g., [5, 25]\n",
    "    eval_images = images[random_indices]  # Shape: [2, 3, 310, 1284]\n",
    "    eval_labels = labels[random_indices]  # Shape: [2]\n",
    "    outputs = model(eval_images)  # Shape: [2, 2]\n",
    "    predictions = torch.argmax(outputs, dim=1)  # Shape: [2]\n",
    "    \n",
    "    # Define class names\n",
    "    class_names = {0: 'white_img', 1: 'line_img'}\n",
    "    \n",
    "    # Print true labels and predictions for each image\n",
    "    for i, idx in enumerate(random_indices):\n",
    "        true_label = eval_labels[i].item()\n",
    "        pred_label = predictions[i].item()\n",
    "        print(f'Image {i+1} (Index {idx.item()}): True Label: {class_names[true_label]} ({true_label}), Predicted: {class_names[pred_label]} ({pred_label})')\n",
    "    \n",
    "    # Print overall predictions and true labels\n",
    "    print(f'All Predictions: {predictions.tolist()} ({[class_names[p.item()] for p in predictions]})')\n",
    "    print(f'All True Labels: {eval_labels.tolist()} ({[class_names[l.item()] for l in eval_labels]})')\n",
    "    \n",
    "    # Calculate and print accuracy\n",
    "    accuracy = (predictions == eval_labels).float().mean()\n",
    "    print(f'Accuracy: {accuracy.item() * 100:.2f}%')\n",
    "\n",
    "    # Display the selected images\n",
    "    plt.figure(figsize=(12, 5))  # Adjust figure size for two images\n",
    "    for i, idx in enumerate(random_indices):\n",
    "        plt.subplot(1, num_samples, i + 1)\n",
    "        img = eval_images[i].permute(1, 2, 0).numpy()  # Convert [3, 310, 1284] to [310, 1284, 3]\n",
    "        plt.imshow(img)  # Display RGB image (normalized to [0, 1])\n",
    "        plt.title(f'Index {idx.item()}\\nTrue: {class_names[eval_labels[i].item()]}\\nPred: {class_names[predictions[i].item()]}')\n",
    "        plt.axis('off')\n",
    "    plt.show()"
   ]
  },
  {
   "cell_type": "code",
   "execution_count": null,
   "id": "cff1bf8b-266b-4f30-869e-ba73cf5c2137",
   "metadata": {},
   "outputs": [],
   "source": []
  }
 ],
 "metadata": {
  "kernelspec": {
   "display_name": "Python 3 (ipykernel)",
   "language": "python",
   "name": "python3"
  },
  "language_info": {
   "codemirror_mode": {
    "name": "ipython",
    "version": 3
   },
   "file_extension": ".py",
   "mimetype": "text/x-python",
   "name": "python",
   "nbconvert_exporter": "python",
   "pygments_lexer": "ipython3",
   "version": "3.13.3"
  }
 },
 "nbformat": 4,
 "nbformat_minor": 5
}
